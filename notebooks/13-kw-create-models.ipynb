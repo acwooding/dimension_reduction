{
 "cells": [
  {
   "cell_type": "code",
   "execution_count": null,
   "metadata": {},
   "outputs": [],
   "source": [
    "from sklearn.decomposition import PCA\n",
    "#from sklearn.manifold import MDS, Isomap\n",
    "from sklearn.model_selection import GridSearchCV\n",
    "from sklearn.metrics import make_scorer\n",
    "from src.data.datasets import load_dataset\n",
    "from sklearn.pipeline import make_pipeline, Pipeline\n",
    "from sklearn.utils.estimator_checks import check_estimator\n",
    "from umap import UMAP\n",
    "\n",
    "from src import quality_measures as qm\n",
    "\n",
    "import numpy as np\n",
    "import pandas as pd\n",
    "\n",
    "from src.data import datasets"
   ]
  },
  {
   "cell_type": "code",
   "execution_count": null,
   "metadata": {},
   "outputs": [],
   "source": [
    "%load_ext autoreload\n",
    "%autoreload 2"
   ]
  },
  {
   "cell_type": "code",
   "execution_count": null,
   "metadata": {},
   "outputs": [],
   "source": [
    "import logging\n",
    "\n",
    "LOG_FORMAT = \"%(levelname)s %(asctime)s - %(message)s\"\n",
    "DATE_FORMAT = \"%m/%d/%Y %I:%M:%S %p\"\n",
    "\n",
    "logging.basicConfig(format=LOG_FORMAT, datefmt=DATE_FORMAT, level=logging.INFO) \n",
    "logger = logging.getLogger()"
   ]
  },
  {
   "cell_type": "code",
   "execution_count": null,
   "metadata": {},
   "outputs": [],
   "source": [
    "random_state = 6502\n",
    "metric = \"euclidean\"\n",
    "low_dimension = 2\n",
    "score_neighbors = 12"
   ]
  },
  {
   "cell_type": "code",
   "execution_count": null,
   "metadata": {},
   "outputs": [],
   "source": [
    "# this should probably be dataset names and parameters in a dict, like below\n",
    "ds_names = [\n",
    " 'broken-swiss-roll',\n",
    " 'difficult',\n",
    " 'helix',\n",
    " 'swiss-roll',\n",
    " 'twinpeaks'   \n",
    "]\n",
    "\n",
    "assert all([ds_name in datasets.available_datasets() for ds_name in ds_names])\n"
   ]
  },
  {
   "cell_type": "code",
   "execution_count": null,
   "metadata": {},
   "outputs": [],
   "source": [
    "algorithms = {\n",
    "    'PCA': PCA,\n",
    "#    'tSNE': TSNE,\n",
    "    'UMAP': UMAP,\n",
    "    \n",
    "}\n",
    "models = {\n",
    "    'PCA': {\"n_components\":low_dimension, \"svd_solver\":\"arpack\"},\n",
    "#    'tSNE' : {\"n_components\":low_dimension, \"random_state\":random_state},\n",
    "    'UMAP' : {\"n_components\":low_dimension, \"metric\":metric, \"random_state\":random_state},    \n",
    "}\n",
    "assert all([mname in algorithms for mname in models])\n",
    "\n",
    "all_quality_measures = qm.available_quality_measures()\n",
    "quality_measures = {\n",
    "    'strain': None,\n",
    "    'stress': None,\n",
    "    'trustworthiness': {\"n_neighbors\":score_neighbors},\n",
    "    'continuity': {\"n_neighbors\":score_neighbors},\n",
    "    '1nn-error': None,\n",
    "}\n",
    "\n",
    "assert all([qm_name in all_quality_measures for qm_name in quality_measures])\n",
    "\n",
    "model_list = [\n",
    "    {\n",
    "        \"meta_est\":None,\n",
    "        \"estimator\":\"UMAP\",\n",
    "        \"model_opts\":models['UMAP'],\n",
    "        \"dataset\":None,\n",
    "        \"run_no\":0\n",
    "    }\n",
    "]\n"
   ]
  },
  {
   "cell_type": "code",
   "execution_count": null,
   "metadata": {},
   "outputs": [],
   "source": [
    "# Fix an Algorithm, Dataset, Quality Measure. Grid search\n",
    "model = 'UMAP'\n",
    "dataset = 'helix'\n",
    "score = 'trustworthiness'\n",
    "greater_is_better = True\n",
    "random_seed=6502"
   ]
  },
  {
   "cell_type": "code",
   "execution_count": null,
   "metadata": {},
   "outputs": [],
   "source": [
    "ds = load_dataset(dataset)"
   ]
  },
  {
   "cell_type": "markdown",
   "metadata": {},
   "source": [
    "## Run a grid search with trustworthiness as the score"
   ]
  },
  {
   "cell_type": "code",
   "execution_count": null,
   "metadata": {},
   "outputs": [],
   "source": [
    "trust = qm.make_hi_lo_scorer(qm.trustworthiness, n_neighbors=12, metric='euclidean')"
   ]
  },
  {
   "cell_type": "code",
   "execution_count": null,
   "metadata": {},
   "outputs": [],
   "source": [
    "dr_stage = \"dr\"\n",
    "#alg = Pipeline([(\"hd\", trust), (dr_stage, algorithms[model]())])\n",
    "#alg.get_params(deep=False)\n",
    "#param_grid = {f'{dr_stage}__learning_rate': np.arange(0.5, 2., 0.5)}\n",
    "\n",
    "# this one\n",
    "alg = algorithms[model](random_state=random_seed)\n",
    "param_grid = {f'learning_rate': np.arange(0.5, 2., 0.4)}\n"
   ]
  },
  {
   "cell_type": "code",
   "execution_count": null,
   "metadata": {},
   "outputs": [],
   "source": [
    "grid_search = GridSearchCV(alg, param_grid, scoring=trust, verbose=1000)\n",
    "grid_search.verbose=True"
   ]
  },
  {
   "cell_type": "code",
   "execution_count": null,
   "metadata": {
    "scrolled": false
   },
   "outputs": [],
   "source": [
    "gs = grid_search.fit(ds.data, None)"
   ]
  },
  {
   "cell_type": "code",
   "execution_count": null,
   "metadata": {},
   "outputs": [],
   "source": [
    "grid_search.best_estimator_"
   ]
  },
  {
   "cell_type": "code",
   "execution_count": null,
   "metadata": {},
   "outputs": [],
   "source": [
    "import pandas as pd\n",
    "pd.DataFrame(grid_search.cv_results_).T"
   ]
  },
  {
   "cell_type": "code",
   "execution_count": null,
   "metadata": {},
   "outputs": [],
   "source": []
  }
 ],
 "metadata": {
  "kernelspec": {
   "display_name": "Python [conda env:dimension_reduction]",
   "language": "python",
   "name": "conda-env-dimension_reduction-py"
  },
  "language_info": {
   "codemirror_mode": {
    "name": "ipython",
    "version": 3
   },
   "file_extension": ".py",
   "mimetype": "text/x-python",
   "name": "python",
   "nbconvert_exporter": "python",
   "pygments_lexer": "ipython3",
   "version": "3.6.6"
  }
 },
 "nbformat": 4,
 "nbformat_minor": 2
}
