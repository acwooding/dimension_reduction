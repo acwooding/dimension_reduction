{
 "cells": [
  {
   "cell_type": "code",
   "execution_count": 1,
   "metadata": {},
   "outputs": [],
   "source": [
    "import src.data.datasets as data3p\n",
    "import matplotlib.pyplot as plt\n",
    "import src"
   ]
  },
  {
   "cell_type": "code",
   "execution_count": 2,
   "metadata": {},
   "outputs": [],
   "source": [
    "%load_ext autoreload\n",
    "%autoreload 2"
   ]
  },
  {
   "cell_type": "code",
   "execution_count": 3,
   "metadata": {},
   "outputs": [],
   "source": [
    "from src.paths import interim_data_path"
   ]
  },
  {
   "cell_type": "code",
   "execution_count": 4,
   "metadata": {},
   "outputs": [],
   "source": [
    "o10 = interim_data_path / 'coil-20' / 'processed_images' / 'obj10__15.pgm'"
   ]
  },
  {
   "cell_type": "code",
   "execution_count": 5,
   "metadata": {},
   "outputs": [
    {
     "data": {
      "text/plain": [
       "<matplotlib.image.AxesImage at 0x7f6e4d3668d0>"
      ]
     },
     "execution_count": 5,
     "metadata": {},
     "output_type": "execute_result"
    },
    {
     "data": {
      "image/png": "[encoded data removed]",
      "text/plain": [
       "<Figure size 432x288 with 1 Axes>"
      ]
     },
     "metadata": {},
     "output_type": "display_data"
    }
   ],
   "source": [
    "plt.imshow(plt.imread(o10))"
   ]
  },
  {
   "cell_type": "code",
   "execution_count": 6,
   "metadata": {},
   "outputs": [
    {
     "data": {
      "text/plain": [
       "{'frey_faces': {'url': 'https://cs.nyu.edu/~roweis/data/frey_rawface.mat',\n",
       "  'load_function': <function src.data.datasets.load_frey_faces(return_X_y=False)>},\n",
       " 'f-mnist': {'url_list': [{'url': 'http://fashion-mnist.s3-website.eu-central-1.amazonaws.com/train-images-idx3-ubyte.gz',\n",
       "    'hash_type': 'md5',\n",
       "    'hash_value': '8d4fb7e6c68d591d4c3dfef9ec88bf0d',\n",
       "    'name': 'training_data'},\n",
       "   {'url': 'http://fashion-mnist.s3-website.eu-central-1.amazonaws.com/train-labels-idx1-ubyte.gz',\n",
       "    'hash_type': 'md5',\n",
       "    'hash_value': '25c81989df183df01b3e8a0aad5dffbe',\n",
       "    'name': 'training_labels'},\n",
       "   {'url': 'http://fashion-mnist.s3-website.eu-central-1.amazonaws.com/t10k-images-idx3-ubyte.gz',\n",
       "    'hash_type': 'md5',\n",
       "    'hash_value': 'bef4ecab320f06d8554ea6380940ec79',\n",
       "    'name': 'test_data'},\n",
       "   {'url': 'http://fashion-mnist.s3-website.eu-central-1.amazonaws.com/t10k-labels-idx1-ubyte.gz',\n",
       "    'hash_type': 'md5',\n",
       "    'hash_value': 'bb300cfdad3c16e7a12a480ee83cd310',\n",
       "    'name': 'test_labels'}],\n",
       "  'load_function': <function src.data.datasets.load_fmnist(kind='train', return_X_y=False)>},\n",
       " 'coil-20': {'url': 'http://www.cs.columbia.edu/CAVE/databases/SLAM_coil-20_coil-100/coil-20/coil-20-proc.tar.gz',\n",
       "  'hash_type': 'sha1',\n",
       "  'hash_value': 'e5d518fa9ef1d81aef7dfa24b398e4a509b2ffd5',\n",
       "  'load_function': <function src.data.datasets.load_coil_20()>},\n",
       " 'coil-100': {'url': 'http://www.cs.columbia.edu/CAVE/databases/SLAM_coil-20_coil-100/coil-100/coil-100.tar.gz',\n",
       "  'hash_type': 'sha1',\n",
       "  'hash_value': 'b58920394780e1c224a39004e74bd3574fbed85a',\n",
       "  'load_function': <function src.data.datasets.load_coil_100()>}}"
      ]
     },
     "execution_count": 6,
     "metadata": {},
     "output_type": "execute_result"
    }
   ],
   "source": [
    "data3p.datasets"
   ]
  },
  {
   "cell_type": "code",
   "execution_count": 7,
   "metadata": {},
   "outputs": [],
   "source": [
    "def load_frey_faces(return_X_y=False):\n",
    "    '''\n",
    "    Load the Frey Faces dataset\n",
    "        Dataset comes pre-split into training and test data.\n",
    "        Indicates which dataset to load\n",
    "\n",
    "    '''\n",
    "    dset = Bunch()\n",
    "    if return_X_y:\n",
    "        return dset.data, dset.target\n",
    "    else:\n",
    "        return dset"
   ]
  },
  {
   "cell_type": "code",
   "execution_count": 21,
   "metadata": {},
   "outputs": [],
   "source": [
    "from src.paths import data_path\n",
    "from src.data.datasets import fetch, fetch_and_unpack"
   ]
  },
  {
   "cell_type": "code",
   "execution_count": 26,
   "metadata": {},
   "outputs": [
    {
     "data": {
      "text/plain": [
       "PosixPath('/home/ava00088/src/devel/dimension_reduction/data/raw/frey_rawface.mat')"
      ]
     },
     "execution_count": 26,
     "metadata": {},
     "output_type": "execute_result"
    }
   ],
   "source": [
    "frey_file = fetch('frey_faces')\n",
    "frey_file"
   ]
  },
  {
   "cell_type": "code",
   "execution_count": 10,
   "metadata": {},
   "outputs": [],
   "source": [
    "import src"
   ]
  },
  {
   "cell_type": "code",
   "execution_count": 16,
   "metadata": {},
   "outputs": [
    {
     "data": {
      "text/plain": [
       "(True,\n",
       " PosixPath('/home/ava00088/src/devel/dimension_reduction/data/raw/frey_rawface.mat'),\n",
       " '32c4bc7a947721c46df32d4f4973f31daf5d3946')"
      ]
     },
     "execution_count": 16,
     "metadata": {},
     "output_type": "execute_result"
    }
   ],
   "source": [
    "src.data.utils.fetch_file(**data3p.datasets['frey_faces'], hash_type='sha1')"
   ]
  },
  {
   "cell_type": "code",
   "execution_count": 19,
   "metadata": {},
   "outputs": [
    {
     "data": {
      "text/plain": [
       "(200,\n",
       " PosixPath('/home/ava00088/src/devel/dimension_reduction/data/raw/frey_rawface.mat'),\n",
       " '32c4bc7a947721c46df32d4f4973f31daf5d3946')"
      ]
     },
     "execution_count": 19,
     "metadata": {},
     "output_type": "execute_result"
    }
   ],
   "source": [
    "src.data.utils.fetch_files(**data3p.datasets['frey_faces'])"
   ]
  },
  {
   "cell_type": "code",
   "execution_count": 25,
   "metadata": {},
   "outputs": [],
   "source": [
    "from scipy.io import loadmat"
   ]
  },
  {
   "cell_type": "code",
   "execution_count": 32,
   "metadata": {},
   "outputs": [],
   "source": [
    "img_rows, img_cols = 28, 20\n",
    "ff = loadmat(frey_file, squeeze_me=True, struct_as_record=False)\n",
    "ff = ff[\"ff\"].T"
   ]
  },
  {
   "cell_type": "code",
   "execution_count": 34,
   "metadata": {},
   "outputs": [
    {
     "data": {
      "text/plain": [
       "(1965, 560)"
      ]
     },
     "execution_count": 34,
     "metadata": {},
     "output_type": "execute_result"
    }
   ],
   "source": [
    "ff.shape"
   ]
  },
  {
   "cell_type": "code",
   "execution_count": 49,
   "metadata": {},
   "outputs": [],
   "source": [
    "ff = data3p.load_frey_faces()"
   ]
  },
  {
   "cell_type": "code",
   "execution_count": 52,
   "metadata": {},
   "outputs": [
    {
     "data": {
      "text/plain": [
       "(1965, 560)"
      ]
     },
     "execution_count": 52,
     "metadata": {},
     "output_type": "execute_result"
    }
   ],
   "source": [
    "ff.data.shape"
   ]
  },
  {
   "cell_type": "code",
   "execution_count": 53,
   "metadata": {},
   "outputs": [
    {
     "data": {
      "text/plain": [
       "<matplotlib.image.AxesImage at 0x7f6e4a9f6908>"
      ]
     },
     "execution_count": 53,
     "metadata": {},
     "output_type": "execute_result"
    },
    {
     "data": {
      "image/png": "[encoded data removed]",
      "text/plain": [
       "<Figure size 432x288 with 1 Axes>"
      ]
     },
     "metadata": {},
     "output_type": "display_data"
    }
   ],
   "source": [
    "plt.imshow(ff.data[0].reshape(28,20))"
   ]
  },
  {
   "cell_type": "code",
   "execution_count": 55,
   "metadata": {},
   "outputs": [
    {
     "ename": "FileNotFoundError",
     "evalue": "[Errno 2] No such file or directory: '/home/ava00088/src/devel/dimension_reduction/data/interim/mnist/train-labels-idx1-ubyte'",
     "output_type": "error",
     "traceback": [
      "\u001b[0;31m---------------------------------------------------------------------------\u001b[0m",
      "\u001b[0;31mFileNotFoundError\u001b[0m                         Traceback (most recent call last)",
      "\u001b[0;32m<ipython-input-55-9e3e6a811e73>\u001b[0m in \u001b[0;36m<module>\u001b[0;34m()\u001b[0m\n\u001b[0;32m----> 1\u001b[0;31m \u001b[0mxx\u001b[0m \u001b[0;34m=\u001b[0m \u001b[0mdata3p\u001b[0m\u001b[0;34m.\u001b[0m\u001b[0mload_dataset\u001b[0m\u001b[0;34m(\u001b[0m\u001b[0;34m'mnist'\u001b[0m\u001b[0;34m)\u001b[0m\u001b[0;34m\u001b[0m\u001b[0m\n\u001b[0m",
      "\u001b[0;32m~/src/devel/dimension_reduction/src/data/datasets.py\u001b[0m in \u001b[0;36mload_dataset\u001b[0;34m(dataset_name, return_X_y, **kwargs)\u001b[0m\n\u001b[1;32m    191\u001b[0m         \u001b[0;32mraise\u001b[0m \u001b[0mException\u001b[0m\u001b[0;34m(\u001b[0m\u001b[0;34mf'Unknown Dataset: {dataset_name}'\u001b[0m\u001b[0;34m)\u001b[0m\u001b[0;34m\u001b[0m\u001b[0m\n\u001b[1;32m    192\u001b[0m \u001b[0;34m\u001b[0m\u001b[0m\n\u001b[0;32m--> 193\u001b[0;31m     \u001b[0mdset\u001b[0m \u001b[0;34m=\u001b[0m \u001b[0mdatasets\u001b[0m\u001b[0;34m[\u001b[0m\u001b[0mdataset_name\u001b[0m\u001b[0;34m]\u001b[0m\u001b[0;34m[\u001b[0m\u001b[0;34m'load_function'\u001b[0m\u001b[0;34m]\u001b[0m\u001b[0;34m(\u001b[0m\u001b[0;34m**\u001b[0m\u001b[0mkwargs\u001b[0m\u001b[0;34m)\u001b[0m\u001b[0;34m\u001b[0m\u001b[0m\n\u001b[0m\u001b[1;32m    194\u001b[0m \u001b[0;34m\u001b[0m\u001b[0m\n\u001b[1;32m    195\u001b[0m     \u001b[0;32mif\u001b[0m \u001b[0mreturn_X_y\u001b[0m\u001b[0;34m:\u001b[0m\u001b[0;34m\u001b[0m\u001b[0m\n",
      "\u001b[0;32m~/src/devel/dimension_reduction/src/data/datasets.py\u001b[0m in \u001b[0;36mload_mnist\u001b[0;34m(kind, variant, return_X_y)\u001b[0m\n\u001b[1;32m    163\u001b[0m \u001b[0;34m\u001b[0m\u001b[0m\n\u001b[1;32m    164\u001b[0m     \u001b[0mlabel_path\u001b[0m \u001b[0;34m=\u001b[0m \u001b[0mpaths\u001b[0m\u001b[0;34m.\u001b[0m\u001b[0minterim_data_path\u001b[0m \u001b[0;34m/\u001b[0m \u001b[0mvariant\u001b[0m \u001b[0;34m/\u001b[0m \u001b[0;34mf\"{kind}-labels-idx1-ubyte\"\u001b[0m\u001b[0;34m\u001b[0m\u001b[0m\n\u001b[0;32m--> 165\u001b[0;31m     \u001b[0;32mwith\u001b[0m \u001b[0mopen\u001b[0m\u001b[0;34m(\u001b[0m\u001b[0mlabel_path\u001b[0m\u001b[0;34m,\u001b[0m \u001b[0;34m'rb'\u001b[0m\u001b[0;34m)\u001b[0m \u001b[0;32mas\u001b[0m \u001b[0mfd\u001b[0m\u001b[0;34m:\u001b[0m\u001b[0;34m\u001b[0m\u001b[0m\n\u001b[0m\u001b[1;32m    166\u001b[0m         \u001b[0mdset\u001b[0m\u001b[0;34m[\u001b[0m\u001b[0;34m'target'\u001b[0m\u001b[0;34m]\u001b[0m \u001b[0;34m=\u001b[0m \u001b[0mnp\u001b[0m\u001b[0;34m.\u001b[0m\u001b[0mfrombuffer\u001b[0m\u001b[0;34m(\u001b[0m\u001b[0mfd\u001b[0m\u001b[0;34m.\u001b[0m\u001b[0mread\u001b[0m\u001b[0;34m(\u001b[0m\u001b[0;34m)\u001b[0m\u001b[0;34m,\u001b[0m \u001b[0mdtype\u001b[0m\u001b[0;34m=\u001b[0m\u001b[0mnp\u001b[0m\u001b[0;34m.\u001b[0m\u001b[0muint8\u001b[0m\u001b[0;34m,\u001b[0m \u001b[0moffset\u001b[0m\u001b[0;34m=\u001b[0m\u001b[0;36m8\u001b[0m\u001b[0;34m)\u001b[0m\u001b[0;34m\u001b[0m\u001b[0m\n\u001b[1;32m    167\u001b[0m     \u001b[0mdata_path\u001b[0m \u001b[0;34m=\u001b[0m \u001b[0mpaths\u001b[0m\u001b[0;34m.\u001b[0m\u001b[0minterim_data_path\u001b[0m \u001b[0;34m/\u001b[0m \u001b[0mvariant\u001b[0m \u001b[0;34m/\u001b[0m \u001b[0;34mf\"{kind}-images-idx3-ubyte\"\u001b[0m\u001b[0;34m\u001b[0m\u001b[0m\n",
      "\u001b[0;31mFileNotFoundError\u001b[0m: [Errno 2] No such file or directory: '/home/ava00088/src/devel/dimension_reduction/data/interim/mnist/train-labels-idx1-ubyte'"
     ]
    }
   ],
   "source": [
    "xx = data3p.load_dataset('mnist')"
   ]
  },
  {
   "cell_type": "code",
   "execution_count": 56,
   "metadata": {},
   "outputs": [
    {
     "data": {
      "text/plain": [
       "(True,\n",
       " [(True,\n",
       "   PosixPath('/home/ava00088/src/devel/dimension_reduction/data/raw/train-images-idx3-ubyte.gz'),\n",
       "   '95978b76b6897f6ca69a25145d01716efb615989'),\n",
       "  (True,\n",
       "   PosixPath('/home/ava00088/src/devel/dimension_reduction/data/raw/train-labels-idx1-ubyte.gz'),\n",
       "   '09814cfef5a041118ceace42f8dae995319d331a'),\n",
       "  (True,\n",
       "   PosixPath('/home/ava00088/src/devel/dimension_reduction/data/raw/t10k-images-idx3-ubyte.gz'),\n",
       "   '5edda96c6d8c36ff915115a0e8136d370a021576'),\n",
       "  (True,\n",
       "   PosixPath('/home/ava00088/src/devel/dimension_reduction/data/raw/t10k-labels-idx1-ubyte.gz'),\n",
       "   '9caad14e1aff9adac77d3744963212d36af15bee')])"
      ]
     },
     "execution_count": 56,
     "metadata": {},
     "output_type": "execute_result"
    }
   ],
   "source": [
    "src.data.utils.fetch_files(**data3p.datasets['mnist'])"
   ]
  },
  {
   "cell_type": "code",
   "execution_count": 57,
   "metadata": {},
   "outputs": [
    {
     "data": {
      "text/plain": [
       "PosixPath('/home/ava00088/src/devel/dimension_reduction/data/interim/mnist')"
      ]
     },
     "execution_count": 57,
     "metadata": {},
     "output_type": "execute_result"
    }
   ],
   "source": [
    "data3p.fetch_and_unpack('mnist')"
   ]
  },
  {
   "cell_type": "code",
   "execution_count": 58,
   "metadata": {},
   "outputs": [
    {
     "data": {
      "text/plain": [
       "(True,\n",
       " [(True,\n",
       "   PosixPath('/home/ava00088/src/devel/dimension_reduction/data/raw/train-images-idx3-ubyte.gz'),\n",
       "   '95978b76b6897f6ca69a25145d01716efb615989'),\n",
       "  (True,\n",
       "   PosixPath('/home/ava00088/src/devel/dimension_reduction/data/raw/train-labels-idx1-ubyte.gz'),\n",
       "   '09814cfef5a041118ceace42f8dae995319d331a'),\n",
       "  (True,\n",
       "   PosixPath('/home/ava00088/src/devel/dimension_reduction/data/raw/t10k-images-idx3-ubyte.gz'),\n",
       "   '5edda96c6d8c36ff915115a0e8136d370a021576'),\n",
       "  (True,\n",
       "   PosixPath('/home/ava00088/src/devel/dimension_reduction/data/raw/t10k-labels-idx1-ubyte.gz'),\n",
       "   '9caad14e1aff9adac77d3744963212d36af15bee')])"
      ]
     },
     "execution_count": 58,
     "metadata": {},
     "output_type": "execute_result"
    }
   ],
   "source": [
    "src.data.utils.fetch_files(**data3p.datasets['mnist'])"
   ]
  },
  {
   "cell_type": "code",
   "execution_count": 61,
   "metadata": {},
   "outputs": [],
   "source": [
    "xx = data3p.load_dataset('mnist')"
   ]
  },
  {
   "cell_type": "code",
   "execution_count": 62,
   "metadata": {},
   "outputs": [
    {
     "data": {
      "text/plain": [
       "(60000, 784)"
      ]
     },
     "execution_count": 62,
     "metadata": {},
     "output_type": "execute_result"
    }
   ],
   "source": [
    "xx.data.shape"
   ]
  },
  {
   "cell_type": "code",
   "execution_count": null,
   "metadata": {},
   "outputs": [],
   "source": []
  }
 ],
 "metadata": {
  "kernelspec": {
   "display_name": "Python [conda env:dimension_reduction]",
   "language": "python",
   "name": "conda-env-dimension_reduction-py"
  },
  "language_info": {
   "codemirror_mode": {
    "name": "ipython",
    "version": 3
   },
   "file_extension": ".py",
   "mimetype": "text/x-python",
   "name": "python",
   "nbconvert_exporter": "python",
   "pygments_lexer": "ipython3",
   "version": "3.6.5"
  }
 },
 "nbformat": 4,
 "nbformat_minor": 2
}
