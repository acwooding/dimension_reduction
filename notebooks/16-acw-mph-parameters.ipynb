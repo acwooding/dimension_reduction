{
 "cells": [
  {
   "cell_type": "code",
   "execution_count": 194,
   "metadata": {
    "ExecuteTime": {
     "end_time": "2018-08-31T01:24:17.001432Z",
     "start_time": "2018-08-31T01:24:16.970418Z"
    }
   },
   "outputs": [],
   "source": [
    "import numpy as np\n",
    "import pandas as pd\n",
    "\n",
    "#import src.data.datasets as dataset\n",
    "from src import quality_measures as qm\n",
    "from src.paths import processed_data_path\n",
    "from src.models.train_model import available_algorithms\n",
    "from src.utils import save_json,\n",
    "import json"
   ]
  },
  {
   "cell_type": "code",
   "execution_count": 196,
   "metadata": {
    "ExecuteTime": {
     "end_time": "2018-08-31T01:25:18.472039Z",
     "start_time": "2018-08-31T01:25:18.443722Z"
    }
   },
   "outputs": [],
   "source": [
    "from src import utils"
   ]
  },
  {
   "cell_type": "code",
   "execution_count": 202,
   "metadata": {
    "ExecuteTime": {
     "end_time": "2018-09-06T17:42:46.396086Z",
     "start_time": "2018-09-06T17:42:46.367979Z"
    }
   },
   "outputs": [
    {
     "name": "stdout",
     "output_type": "stream",
     "text": [
      "The autoreload extension is already loaded. To reload it, use:\n",
      "  %reload_ext autoreload\n"
     ]
    }
   ],
   "source": [
    "%load_ext autoreload\n",
    "%autoreload 2"
   ]
  },
  {
   "cell_type": "code",
   "execution_count": 225,
   "metadata": {
    "ExecuteTime": {
     "end_time": "2018-09-07T19:04:53.468331Z",
     "start_time": "2018-09-07T19:04:53.426129Z"
    }
   },
   "outputs": [],
   "source": [
    "def read_json(filename):\n",
    "    with open(filename, 'r') as f:\n",
    "        j = json.load(f)\n",
    "    return j"
   ]
  },
  {
   "cell_type": "markdown",
   "metadata": {
    "ExecuteTime": {
     "end_time": "2018-08-30T00:31:34.687845Z",
     "start_time": "2018-08-30T00:31:34.653028Z"
    }
   },
   "source": [
    "## Specify dataset, algorithm and quality measure triples for training"
   ]
  },
  {
   "cell_type": "code",
   "execution_count": 106,
   "metadata": {
    "ExecuteTime": {
     "end_time": "2018-08-30T00:31:35.080019Z",
     "start_time": "2018-08-30T00:31:35.049138Z"
    },
    "scrolled": true
   },
   "outputs": [
    {
     "data": {
      "text/plain": [
       "['ball',\n",
       " 'broken-swiss-roll',\n",
       " 'coil-100',\n",
       " 'coil-20',\n",
       " 'difficult',\n",
       " 'f-mnist',\n",
       " 'frey-faces',\n",
       " 'gaussian-blobs',\n",
       " 'helix',\n",
       " 'hiva',\n",
       " 'lvq-pak',\n",
       " 'mnist',\n",
       " 'orl-faces',\n",
       " 's-curve',\n",
       " 'shuttle-statlog',\n",
       " 'sphere',\n",
       " 'swiss-roll',\n",
       " 'twinpeaks',\n",
       " 'unit-cube']"
      ]
     },
     "execution_count": 106,
     "metadata": {},
     "output_type": "execute_result"
    }
   ],
   "source": [
    "datasets.available_datasets()"
   ]
  },
  {
   "cell_type": "code",
   "execution_count": 107,
   "metadata": {
    "ExecuteTime": {
     "end_time": "2018-08-30T00:31:35.325035Z",
     "start_time": "2018-08-30T00:31:35.288540Z"
    }
   },
   "outputs": [
    {
     "data": {
      "text/plain": [
       "dict_keys(['autoencoder', 'HLLE', 'Isomap', 'KernelPCA', 'LaplacianEigenmaps', 'LLE', 'LTSA', 'MDS', 'PCA', 'TSNE', 'UMAP'])"
      ]
     },
     "execution_count": 107,
     "metadata": {},
     "output_type": "execute_result"
    }
   ],
   "source": [
    "available_algorithms().keys()"
   ]
  },
  {
   "cell_type": "code",
   "execution_count": 108,
   "metadata": {
    "ExecuteTime": {
     "end_time": "2018-08-30T00:31:35.566020Z",
     "start_time": "2018-08-30T00:31:35.530513Z"
    }
   },
   "outputs": [
    {
     "data": {
      "text/plain": [
       "dict_keys(['1nn-error', 'continuity', 'stress', 'strain', 'trustworthiness'])"
      ]
     },
     "execution_count": 108,
     "metadata": {},
     "output_type": "execute_result"
    }
   ],
   "source": [
    "qm.available_quality_measures().keys()"
   ]
  },
  {
   "cell_type": "code",
   "execution_count": 219,
   "metadata": {
    "ExecuteTime": {
     "end_time": "2018-09-07T18:58:57.906881Z",
     "start_time": "2018-09-07T18:58:56.193033Z"
    }
   },
   "outputs": [],
   "source": [
    "mph_synthetic_datasets = [\n",
    " 'swiss-roll',\n",
    " 'helix',\n",
    " 'twinpeaks',\n",
    " 'broken-swiss-roll',\n",
    " 'difficult'\n",
    "]\n",
    "\n",
    "mph_datasets = [\n",
    " 'swiss-roll',\n",
    " #'helix',\n",
    " #'twinpeaks',\n",
    " #'broken-swiss-roll',\n",
    " #'difficult',\n",
    " #'coil-20',\n",
    " #'orl-faces',\n",
    " #'hiva'\n",
    "]\n",
    "\n",
    "# Leave out LaplacianEigenmaps until we figure out what to do with it failing...\n",
    "\n",
    "mph_algs = [\n",
    "    ('PCA', {'n_components':2}, None),\n",
    "    #('Isomap', {'n_components':[2], 'n_neighbors':[ 5,  6,  7,  8,  9, 10, 11, 12, 13, 14, 15]}, ('grid_search', {'verbose':10, 'return_train_score':True})),\n",
    "    #('KernelPCA', {'n_components':2, 'kernel':'poly', 'degree':5}, None),\n",
    "    #('LLE', {'n_components':[2], 'n_neighbors':[ 5,  6,  7,  8,  9, 10, 11, 12, 13, 14, 15], 'method':['modified']}, ('grid_search', {'verbose':10, 'return_train_score':True})), #use modified lle as n_neighbors > n_components\n",
    "    #('LaplacianEigenmaps', {'n_components':[2], 'n_neighbors':[ 5,  6,  7,  8,  9, 10, 11, 12, 13, 14, 15], 'eigen_solver':['dense']}, ('grid_search', {'verbose':10, 'return_train_score':True})),\n",
    "    #('HLLE', {'n_components':[2], 'n_neighbors':[6,  7,  8,  9, 10, 11, 12, 13, 14, 15]}, ('grid_search', {'verbose':10, 'return_train_score':True})),\n",
    "    #('LTSA', {'n_components':[2], 'n_neighbors':[5, 6,  7,  8,  9, 10, 11, 12, 13, 14, 15]}, ('grid_search', {'verbose':10, 'return_train_score':True})),\n",
    "    #('MDS', {'n_components':2}, None),\n",
    "    #('TSNE', {'n_components':[2], 'perplexity':[ 10,  20,  30,  40,  50,  60,  70,  80,  90, 100]}, ('grid_search', {'verbose':10, 'return_train_score':True})),\n",
    "    ('UMAP', {'n_components':[2], 'n_neighbors':[ 5,  6,  7,  8,  9, 10, 11, 12, 13, 14, 15]}, ('grid_search', {'verbose':10, 'return_train_score':True})),\n",
    "]\n",
    "\n",
    "mph_scores = [\n",
    "    ('1nn-error', {'metric':'euclidean'}),\n",
    "    ('continuity', {'n_neighbors':12, 'metric':'euclidean'}),\n",
    "    ('stress', {'metric':'euclidean'}),\n",
    "    ('strain',  {'metric':'euclidean'}),\n",
    "    ('trustworthiness', {'n_neighbors':12, 'metric':'euclidean', })\n",
    "]"
   ]
  },
  {
   "cell_type": "code",
   "execution_count": 220,
   "metadata": {
    "ExecuteTime": {
     "end_time": "2018-09-07T18:58:57.975950Z",
     "start_time": "2018-09-07T18:58:57.915084Z"
    }
   },
   "outputs": [],
   "source": [
    "training_dicts = []\n",
    "for ds in mph_datasets:\n",
    "    for alg, alg_params, meta in mph_algs:\n",
    "        for score, score_params in mph_scores:\n",
    "            d = {}\n",
    "            d['dataset'] = ds\n",
    "            d['algorithm'] = alg\n",
    "            new_alg_params = alg_params.copy()\n",
    "            if meta is not None:\n",
    "                d['meta'] = meta[0]\n",
    "                d['meta_params'] = meta[1]\n",
    "                if alg != 'Isomap':\n",
    "                    rs = [int(x) for x in np.random.randint(2**16, size=2)]\n",
    "                    new_alg_params['random_state'] = rs\n",
    "            else:\n",
    "                new_alg_params['random_state'] = int(np.random.randint(2**16))\n",
    "            if (alg in ['LLE', 'HLLE', 'LTSA']) and (ds in mph_synthetic_datasets):\n",
    "                new_alg_params['eigen_solver'] = ['dense']\n",
    "            d['algorithm_params'] = new_alg_params\n",
    "            d['score'] = score\n",
    "            d['score_params'] = score_params\n",
    "\n",
    "            training_dicts.append(d)"
   ]
  },
  {
   "cell_type": "code",
   "execution_count": 221,
   "metadata": {
    "ExecuteTime": {
     "end_time": "2018-09-07T18:58:58.025950Z",
     "start_time": "2018-09-07T18:58:57.979376Z"
    }
   },
   "outputs": [
    {
     "data": {
      "text/plain": [
       "[{'dataset': 'swiss-roll',\n",
       "  'algorithm': 'PCA',\n",
       "  'algorithm_params': {'n_components': 2, 'random_state': 51129},\n",
       "  'score': '1nn-error',\n",
       "  'score_params': {'metric': 'euclidean'}},\n",
       " {'dataset': 'swiss-roll',\n",
       "  'algorithm': 'PCA',\n",
       "  'algorithm_params': {'n_components': 2, 'random_state': 5891},\n",
       "  'score': 'continuity',\n",
       "  'score_params': {'n_neighbors': 12, 'metric': 'euclidean'}},\n",
       " {'dataset': 'swiss-roll',\n",
       "  'algorithm': 'PCA',\n",
       "  'algorithm_params': {'n_components': 2, 'random_state': 21915},\n",
       "  'score': 'stress',\n",
       "  'score_params': {'metric': 'euclidean'}},\n",
       " {'dataset': 'swiss-roll',\n",
       "  'algorithm': 'PCA',\n",
       "  'algorithm_params': {'n_components': 2, 'random_state': 25159},\n",
       "  'score': 'strain',\n",
       "  'score_params': {'metric': 'euclidean'}},\n",
       " {'dataset': 'swiss-roll',\n",
       "  'algorithm': 'PCA',\n",
       "  'algorithm_params': {'n_components': 2, 'random_state': 26330},\n",
       "  'score': 'trustworthiness',\n",
       "  'score_params': {'n_neighbors': 12, 'metric': 'euclidean'}},\n",
       " {'dataset': 'swiss-roll',\n",
       "  'algorithm': 'UMAP',\n",
       "  'meta': 'grid_search',\n",
       "  'meta_params': {'verbose': 10, 'return_train_score': True},\n",
       "  'algorithm_params': {'n_components': [2],\n",
       "   'n_neighbors': [5, 6, 7, 8, 9, 10, 11, 12, 13, 14, 15],\n",
       "   'random_state': [22786, 53671]},\n",
       "  'score': '1nn-error',\n",
       "  'score_params': {'metric': 'euclidean'}},\n",
       " {'dataset': 'swiss-roll',\n",
       "  'algorithm': 'UMAP',\n",
       "  'meta': 'grid_search',\n",
       "  'meta_params': {'verbose': 10, 'return_train_score': True},\n",
       "  'algorithm_params': {'n_components': [2],\n",
       "   'n_neighbors': [5, 6, 7, 8, 9, 10, 11, 12, 13, 14, 15],\n",
       "   'random_state': [54598, 63107]},\n",
       "  'score': 'continuity',\n",
       "  'score_params': {'n_neighbors': 12, 'metric': 'euclidean'}},\n",
       " {'dataset': 'swiss-roll',\n",
       "  'algorithm': 'UMAP',\n",
       "  'meta': 'grid_search',\n",
       "  'meta_params': {'verbose': 10, 'return_train_score': True},\n",
       "  'algorithm_params': {'n_components': [2],\n",
       "   'n_neighbors': [5, 6, 7, 8, 9, 10, 11, 12, 13, 14, 15],\n",
       "   'random_state': [54599, 16529]},\n",
       "  'score': 'stress',\n",
       "  'score_params': {'metric': 'euclidean'}},\n",
       " {'dataset': 'swiss-roll',\n",
       "  'algorithm': 'UMAP',\n",
       "  'meta': 'grid_search',\n",
       "  'meta_params': {'verbose': 10, 'return_train_score': True},\n",
       "  'algorithm_params': {'n_components': [2],\n",
       "   'n_neighbors': [5, 6, 7, 8, 9, 10, 11, 12, 13, 14, 15],\n",
       "   'random_state': [31698, 27608]},\n",
       "  'score': 'strain',\n",
       "  'score_params': {'metric': 'euclidean'}},\n",
       " {'dataset': 'swiss-roll',\n",
       "  'algorithm': 'UMAP',\n",
       "  'meta': 'grid_search',\n",
       "  'meta_params': {'verbose': 10, 'return_train_score': True},\n",
       "  'algorithm_params': {'n_components': [2],\n",
       "   'n_neighbors': [5, 6, 7, 8, 9, 10, 11, 12, 13, 14, 15],\n",
       "   'random_state': [26095, 18231]},\n",
       "  'score': 'trustworthiness',\n",
       "  'score_params': {'n_neighbors': 12, 'metric': 'euclidean'}}]"
      ]
     },
     "execution_count": 221,
     "metadata": {},
     "output_type": "execute_result"
    }
   ],
   "source": [
    "training_dicts"
   ]
  },
  {
   "cell_type": "code",
   "execution_count": 222,
   "metadata": {
    "ExecuteTime": {
     "end_time": "2018-09-07T18:59:03.281838Z",
     "start_time": "2018-09-07T18:59:03.104492Z"
    }
   },
   "outputs": [
    {
     "name": "stdout",
     "output_type": "stream",
     "text": [
      "analysis\t\t  experiment_models_mph.json  predict_list.json\r\n",
      "experiment_models-2.json  experiments.json\t      trained\r\n",
      "experiment_models.json\t  predictions\r\n"
     ]
    }
   ],
   "source": [
    "!ls '../models/'"
   ]
  },
  {
   "cell_type": "code",
   "execution_count": 223,
   "metadata": {
    "ExecuteTime": {
     "end_time": "2018-09-07T18:59:06.127935Z",
     "start_time": "2018-09-07T18:59:06.080759Z"
    }
   },
   "outputs": [],
   "source": [
    "save_json('../models/experiment_models_mph.json', training_dicts)"
   ]
  },
  {
   "cell_type": "code",
   "execution_count": 186,
   "metadata": {
    "ExecuteTime": {
     "end_time": "2018-08-30T23:21:27.120233Z",
     "start_time": "2018-08-30T23:21:27.086301Z"
    }
   },
   "outputs": [],
   "source": [
    "#save_json('../models/experiment_models.json', training_dicts)"
   ]
  },
  {
   "cell_type": "code",
   "execution_count": 224,
   "metadata": {
    "ExecuteTime": {
     "end_time": "2018-09-07T19:04:20.410476Z",
     "start_time": "2018-09-07T19:04:20.380464Z"
    }
   },
   "outputs": [],
   "source": [
    "train_output_json = '../models/experiment_mph.json'"
   ]
  },
  {
   "cell_type": "code",
   "execution_count": 231,
   "metadata": {
    "ExecuteTime": {
     "end_time": "2018-09-07T19:11:06.364272Z",
     "start_time": "2018-09-07T19:11:06.337501Z"
    }
   },
   "outputs": [],
   "source": [
    "train_output = read_json(train_output_json)"
   ]
  },
  {
   "cell_type": "markdown",
   "metadata": {},
   "source": [
    "### Make the prediction list"
   ]
  },
  {
   "cell_type": "code",
   "execution_count": 232,
   "metadata": {
    "ExecuteTime": {
     "end_time": "2018-09-07T19:11:07.484993Z",
     "start_time": "2018-09-07T19:11:07.455922Z"
    }
   },
   "outputs": [
    {
     "data": {
      "text/plain": [
       "dict_keys(['PCA_swiss-roll_1nn-error_0', 'PCA_swiss-roll_continuity_0', 'PCA_swiss-roll_strain_0', 'PCA_swiss-roll_stress_0', 'PCA_swiss-roll_trustworthiness_0', 'UMAP_swiss-roll_1nn-error_0', 'UMAP_swiss-roll_continuity_0', 'UMAP_swiss-roll_strain_0', 'UMAP_swiss-roll_stress_0', 'UMAP_swiss-roll_trustworthiness_0'])"
      ]
     },
     "execution_count": 232,
     "metadata": {},
     "output_type": "execute_result"
    }
   ],
   "source": [
    "train_output.keys()"
   ]
  },
  {
   "cell_type": "code",
   "execution_count": 258,
   "metadata": {
    "ExecuteTime": {
     "end_time": "2018-09-07T19:51:08.489049Z",
     "start_time": "2018-09-07T19:51:08.457875Z"
    }
   },
   "outputs": [],
   "source": [
    "predict_list = []\n",
    "for key in train_output.keys():\n",
    "    _, ds_name, _, _ = key.split('_')\n",
    "    d = {\"dataset_name\":ds_name,\n",
    "         \"model_name\":key,\n",
    "         \"force\":True\n",
    "        }\n",
    "    predict_list.append(d)"
   ]
  },
  {
   "cell_type": "code",
   "execution_count": 259,
   "metadata": {
    "ExecuteTime": {
     "end_time": "2018-09-07T19:51:08.870357Z",
     "start_time": "2018-09-07T19:51:08.838709Z"
    }
   },
   "outputs": [
    {
     "data": {
      "text/plain": [
       "[{'dataset_name': 'swiss-roll',\n",
       "  'model_name': 'PCA_swiss-roll_1nn-error_0',\n",
       "  'force': True},\n",
       " {'dataset_name': 'swiss-roll',\n",
       "  'model_name': 'PCA_swiss-roll_continuity_0',\n",
       "  'force': True},\n",
       " {'dataset_name': 'swiss-roll',\n",
       "  'model_name': 'PCA_swiss-roll_strain_0',\n",
       "  'force': True},\n",
       " {'dataset_name': 'swiss-roll',\n",
       "  'model_name': 'PCA_swiss-roll_stress_0',\n",
       "  'force': True},\n",
       " {'dataset_name': 'swiss-roll',\n",
       "  'model_name': 'PCA_swiss-roll_trustworthiness_0',\n",
       "  'force': True},\n",
       " {'dataset_name': 'swiss-roll',\n",
       "  'model_name': 'UMAP_swiss-roll_1nn-error_0',\n",
       "  'force': True},\n",
       " {'dataset_name': 'swiss-roll',\n",
       "  'model_name': 'UMAP_swiss-roll_continuity_0',\n",
       "  'force': True},\n",
       " {'dataset_name': 'swiss-roll',\n",
       "  'model_name': 'UMAP_swiss-roll_strain_0',\n",
       "  'force': True},\n",
       " {'dataset_name': 'swiss-roll',\n",
       "  'model_name': 'UMAP_swiss-roll_stress_0',\n",
       "  'force': True},\n",
       " {'dataset_name': 'swiss-roll',\n",
       "  'model_name': 'UMAP_swiss-roll_trustworthiness_0',\n",
       "  'force': True}]"
      ]
     },
     "execution_count": 259,
     "metadata": {},
     "output_type": "execute_result"
    }
   ],
   "source": [
    "predict_list"
   ]
  },
  {
   "cell_type": "code",
   "execution_count": 240,
   "metadata": {
    "ExecuteTime": {
     "end_time": "2018-09-07T19:16:40.338636Z",
     "start_time": "2018-09-07T19:16:40.309802Z"
    }
   },
   "outputs": [],
   "source": [
    "save_json('../models/predict_list_mph.json', predict_list)"
   ]
  },
  {
   "cell_type": "code",
   "execution_count": 241,
   "metadata": {
    "ExecuteTime": {
     "end_time": "2018-09-07T19:41:01.955519Z",
     "start_time": "2018-09-07T19:41:01.922846Z"
    }
   },
   "outputs": [],
   "source": [
    "predict_output_json = '../models/prediction_mph.json'"
   ]
  },
  {
   "cell_type": "markdown",
   "metadata": {},
   "source": [
    "## Now set up analysis"
   ]
  },
  {
   "cell_type": "code",
   "execution_count": 242,
   "metadata": {
    "ExecuteTime": {
     "end_time": "2018-09-07T19:41:11.336516Z",
     "start_time": "2018-09-07T19:41:11.311363Z"
    }
   },
   "outputs": [],
   "source": [
    "predict_output = read_json(predict_output_json)"
   ]
  },
  {
   "cell_type": "code",
   "execution_count": 244,
   "metadata": {
    "ExecuteTime": {
     "end_time": "2018-09-07T19:41:44.059047Z",
     "start_time": "2018-09-07T19:41:44.028852Z"
    }
   },
   "outputs": [
    {
     "data": {
      "text/plain": [
       "True"
      ]
     },
     "execution_count": 244,
     "metadata": {},
     "output_type": "execute_result"
    }
   ],
   "source": [
    "key = list(predict_output.keys())[0]\n",
    "predict_output[key]['dataset_name'] == key"
   ]
  },
  {
   "cell_type": "code",
   "execution_count": 248,
   "metadata": {
    "ExecuteTime": {
     "end_time": "2018-09-07T19:44:33.083018Z",
     "start_time": "2018-09-07T19:44:33.053507Z"
    }
   },
   "outputs": [
    {
     "data": {
      "text/plain": [
       "'swiss-roll'"
      ]
     },
     "execution_count": 248,
     "metadata": {},
     "output_type": "execute_result"
    }
   ],
   "source": [
    "predict_output[key]['experiment']['dataset_name']"
   ]
  },
  {
   "cell_type": "code",
   "execution_count": 249,
   "metadata": {
    "ExecuteTime": {
     "end_time": "2018-09-07T19:47:38.741939Z",
     "start_time": "2018-09-07T19:47:38.710150Z"
    }
   },
   "outputs": [
    {
     "data": {
      "text/plain": [
       "{'data_hash': 'e8c9d51a7b8a83589043041b2eafb86c0cdc4e63',\n",
       " 'dataset_name': 'swiss-roll',\n",
       " 'dataset_opts': {},\n",
       " 'duration': 0.0002238750457763672,\n",
       " 'hash_type': 'sha1',\n",
       " 'model_hash': '167f3fa9aa7a3df513bde8a632ffce8a9898f610',\n",
       " 'model_metadata': {'algorithm': 'PCA',\n",
       "  'algorithm_params': {'n_components': 2, 'random_state': 51129},\n",
       "  'data_hash': 'e8c9d51a7b8a83589043041b2eafb86c0cdc4e63',\n",
       "  'dataset': 'swiss-roll',\n",
       "  'model_hash': '883e31b501d2010f4132daea1f40c736f260ef3e',\n",
       "  'run_number': 0,\n",
       "  'score': '1nn-error',\n",
       "  'score_params': {'metric': 'euclidean'},\n",
       "  'target_hash': 'f6384ac94eac334efc650fe1e85f85d221187168'},\n",
       " 'model_name': 'PCA_swiss-roll_1nn-error_0',\n",
       " 'run_number': 0,\n",
       " 'start_time': 1536349011.4622514,\n",
       " 'target_hash': 'f6384ac94eac334efc650fe1e85f85d221187168'}"
      ]
     },
     "execution_count": 249,
     "metadata": {},
     "output_type": "execute_result"
    }
   ],
   "source": [
    "predict_output[key]['experiment']"
   ]
  },
  {
   "cell_type": "code",
   "execution_count": 246,
   "metadata": {
    "ExecuteTime": {
     "end_time": "2018-09-07T19:42:33.333133Z",
     "start_time": "2018-09-07T19:42:33.295341Z"
    }
   },
   "outputs": [
    {
     "data": {
      "text/plain": [
       "{'algorithm': 'PCA',\n",
       " 'algorithm_params': {'n_components': 2, 'random_state': 51129},\n",
       " 'data_hash': 'e8c9d51a7b8a83589043041b2eafb86c0cdc4e63',\n",
       " 'dataset': 'swiss-roll',\n",
       " 'model_hash': '883e31b501d2010f4132daea1f40c736f260ef3e',\n",
       " 'run_number': 0,\n",
       " 'score': '1nn-error',\n",
       " 'score_params': {'metric': 'euclidean'},\n",
       " 'target_hash': 'f6384ac94eac334efc650fe1e85f85d221187168'}"
      ]
     },
     "execution_count": 246,
     "metadata": {},
     "output_type": "execute_result"
    }
   ],
   "source": [
    "predict_output[key]['experiment']['model_metadata']"
   ]
  },
  {
   "cell_type": "code",
   "execution_count": 260,
   "metadata": {
    "ExecuteTime": {
     "end_time": "2018-09-07T19:52:22.016869Z",
     "start_time": "2018-09-07T19:52:21.971386Z"
    }
   },
   "outputs": [
    {
     "name": "stdout",
     "output_type": "stream",
     "text": [
      "PCA_swiss-roll_1nn-error_0_exp_swiss-roll_0\n",
      "PCA_swiss-roll_continuity_0_exp_swiss-roll_0\n",
      "PCA_swiss-roll_strain_0_exp_swiss-roll_0\n",
      "PCA_swiss-roll_stress_0_exp_swiss-roll_0\n",
      "PCA_swiss-roll_trustworthiness_0_exp_swiss-roll_0\n",
      "UMAP_swiss-roll_1nn-error_0_exp_swiss-roll_0\n",
      "UMAP_swiss-roll_continuity_0_exp_swiss-roll_0\n",
      "UMAP_swiss-roll_strain_0_exp_swiss-roll_0\n",
      "UMAP_swiss-roll_stress_0_exp_swiss-roll_0\n",
      "UMAP_swiss-roll_trustworthiness_0_exp_swiss-roll_0\n"
     ]
    }
   ],
   "source": [
    "analysis_list = []\n",
    "for key in predict_output.keys():\n",
    "    print(key)\n",
    "    for score in mph_scores:\n",
    "        #print(score)\n",
    "        d = {\"low_dataset_name\":key,\n",
    "             \"high_dataset_name\":predict_output[key]['experiment']['dataset_name'],\n",
    "             \"score_name\":score[0],\n",
    "             \"score_params\":score[1],\n",
    "             \"include_pointwise\":True\n",
    "            }\n",
    "    analysis_list.append(d)"
   ]
  },
  {
   "cell_type": "code",
   "execution_count": 261,
   "metadata": {
    "ExecuteTime": {
     "end_time": "2018-09-07T19:52:22.632116Z",
     "start_time": "2018-09-07T19:52:22.593771Z"
    }
   },
   "outputs": [
    {
     "data": {
      "text/plain": [
       "[{'low_dataset_name': 'PCA_swiss-roll_1nn-error_0_exp_swiss-roll_0',\n",
       "  'high_dataset_name': 'swiss-roll',\n",
       "  'score_name': 'trustworthiness',\n",
       "  'score_params': {'n_neighbors': 12, 'metric': 'euclidean'},\n",
       "  'include_pointwise': True},\n",
       " {'low_dataset_name': 'PCA_swiss-roll_continuity_0_exp_swiss-roll_0',\n",
       "  'high_dataset_name': 'swiss-roll',\n",
       "  'score_name': 'trustworthiness',\n",
       "  'score_params': {'n_neighbors': 12, 'metric': 'euclidean'},\n",
       "  'include_pointwise': True},\n",
       " {'low_dataset_name': 'PCA_swiss-roll_strain_0_exp_swiss-roll_0',\n",
       "  'high_dataset_name': 'swiss-roll',\n",
       "  'score_name': 'trustworthiness',\n",
       "  'score_params': {'n_neighbors': 12, 'metric': 'euclidean'},\n",
       "  'include_pointwise': True},\n",
       " {'low_dataset_name': 'PCA_swiss-roll_stress_0_exp_swiss-roll_0',\n",
       "  'high_dataset_name': 'swiss-roll',\n",
       "  'score_name': 'trustworthiness',\n",
       "  'score_params': {'n_neighbors': 12, 'metric': 'euclidean'},\n",
       "  'include_pointwise': True},\n",
       " {'low_dataset_name': 'PCA_swiss-roll_trustworthiness_0_exp_swiss-roll_0',\n",
       "  'high_dataset_name': 'swiss-roll',\n",
       "  'score_name': 'trustworthiness',\n",
       "  'score_params': {'n_neighbors': 12, 'metric': 'euclidean'},\n",
       "  'include_pointwise': True},\n",
       " {'low_dataset_name': 'UMAP_swiss-roll_1nn-error_0_exp_swiss-roll_0',\n",
       "  'high_dataset_name': 'swiss-roll',\n",
       "  'score_name': 'trustworthiness',\n",
       "  'score_params': {'n_neighbors': 12, 'metric': 'euclidean'},\n",
       "  'include_pointwise': True},\n",
       " {'low_dataset_name': 'UMAP_swiss-roll_continuity_0_exp_swiss-roll_0',\n",
       "  'high_dataset_name': 'swiss-roll',\n",
       "  'score_name': 'trustworthiness',\n",
       "  'score_params': {'n_neighbors': 12, 'metric': 'euclidean'},\n",
       "  'include_pointwise': True},\n",
       " {'low_dataset_name': 'UMAP_swiss-roll_strain_0_exp_swiss-roll_0',\n",
       "  'high_dataset_name': 'swiss-roll',\n",
       "  'score_name': 'trustworthiness',\n",
       "  'score_params': {'n_neighbors': 12, 'metric': 'euclidean'},\n",
       "  'include_pointwise': True},\n",
       " {'low_dataset_name': 'UMAP_swiss-roll_stress_0_exp_swiss-roll_0',\n",
       "  'high_dataset_name': 'swiss-roll',\n",
       "  'score_name': 'trustworthiness',\n",
       "  'score_params': {'n_neighbors': 12, 'metric': 'euclidean'},\n",
       "  'include_pointwise': True},\n",
       " {'low_dataset_name': 'UMAP_swiss-roll_trustworthiness_0_exp_swiss-roll_0',\n",
       "  'high_dataset_name': 'swiss-roll',\n",
       "  'score_name': 'trustworthiness',\n",
       "  'score_params': {'n_neighbors': 12, 'metric': 'euclidean'},\n",
       "  'include_pointwise': True}]"
      ]
     },
     "execution_count": 261,
     "metadata": {},
     "output_type": "execute_result"
    }
   ],
   "source": [
    "analysis_list"
   ]
  },
  {
   "cell_type": "code",
   "execution_count": 262,
   "metadata": {
    "ExecuteTime": {
     "end_time": "2018-09-07T19:53:37.606395Z",
     "start_time": "2018-09-07T19:53:37.578233Z"
    }
   },
   "outputs": [],
   "source": [
    "save_json('../models/analysis_list_mph.json', analysis_list)"
   ]
  },
  {
   "cell_type": "code",
   "execution_count": null,
   "metadata": {},
   "outputs": [],
   "source": []
  },
  {
   "cell_type": "code",
   "execution_count": null,
   "metadata": {},
   "outputs": [],
   "source": []
  },
  {
   "cell_type": "code",
   "execution_count": null,
   "metadata": {},
   "outputs": [],
   "source": []
  }
 ],
 "metadata": {
  "kernelspec": {
   "display_name": "Python [conda env:dimension_reduction]",
   "language": "python",
   "name": "conda-env-dimension_reduction-py"
  },
  "language_info": {
   "codemirror_mode": {
    "name": "ipython",
    "version": 3
   },
   "file_extension": ".py",
   "mimetype": "text/x-python",
   "name": "python",
   "nbconvert_exporter": "python",
   "pygments_lexer": "ipython3",
   "version": "3.6.6"
  }
 },
 "nbformat": 4,
 "nbformat_minor": 2
}
