{
 "cells": [
  {
   "cell_type": "code",
   "execution_count": 1,
   "metadata": {
    "ExecuteTime": {
     "end_time": "2018-08-29T21:22:32.632417Z",
     "start_time": "2018-08-29T21:22:30.053929Z"
    }
   },
   "outputs": [],
   "source": [
    "import numpy as np\n",
    "import pandas as pd\n",
    "\n",
    "import src\n",
    "import src.data.datasets as datasets\n",
    "import src.quality_measures as qm\n",
    "from src.paths import processed_data_path\n",
    "from src.models.train_model import available_algorithms\n",
    "\n",
    "import json"
   ]
  },
  {
   "cell_type": "code",
   "execution_count": 2,
   "metadata": {
    "ExecuteTime": {
     "end_time": "2018-08-29T21:22:32.661935Z",
     "start_time": "2018-08-29T21:22:32.634129Z"
    }
   },
   "outputs": [],
   "source": [
    "%load_ext autoreload\n",
    "%autoreload 2"
   ]
  },
  {
   "cell_type": "code",
   "execution_count": 3,
   "metadata": {
    "ExecuteTime": {
     "end_time": "2018-08-29T21:22:32.685459Z",
     "start_time": "2018-08-29T21:22:32.663473Z"
    }
   },
   "outputs": [],
   "source": [
    "## Specify dataset, algorithm and quality measure triples for training"
   ]
  },
  {
   "cell_type": "code",
   "execution_count": 4,
   "metadata": {
    "ExecuteTime": {
     "end_time": "2018-08-29T21:22:32.725945Z",
     "start_time": "2018-08-29T21:22:32.687117Z"
    }
   },
   "outputs": [],
   "source": [
    "def save_json(filename, obj):\n",
    "    with open(filename, 'w') as fw:\n",
    "        json.dump(obj, fw, indent=2, sort_keys=True)"
   ]
  },
  {
   "cell_type": "code",
   "execution_count": 5,
   "metadata": {
    "ExecuteTime": {
     "end_time": "2018-08-29T21:22:32.756010Z",
     "start_time": "2018-08-29T21:22:32.727598Z"
    },
    "scrolled": true
   },
   "outputs": [
    {
     "data": {
      "text/plain": [
       "['ball',\n",
       " 'broken-swiss-roll',\n",
       " 'coil-100',\n",
       " 'coil-20',\n",
       " 'difficult',\n",
       " 'f-mnist',\n",
       " 'frey-faces',\n",
       " 'gaussian-blobs',\n",
       " 'helix',\n",
       " 'hiva',\n",
       " 'lvq-pak',\n",
       " 'mnist',\n",
       " 'orl-faces',\n",
       " 's-curve',\n",
       " 'shuttle-statlog',\n",
       " 'sphere',\n",
       " 'swiss-roll',\n",
       " 'twinpeaks',\n",
       " 'unit-cube']"
      ]
     },
     "execution_count": 5,
     "metadata": {},
     "output_type": "execute_result"
    }
   ],
   "source": [
    "datasets.available_datasets()"
   ]
  },
  {
   "cell_type": "code",
   "execution_count": 7,
   "metadata": {
    "ExecuteTime": {
     "end_time": "2018-08-29T21:22:43.911748Z",
     "start_time": "2018-08-29T21:22:43.879392Z"
    }
   },
   "outputs": [
    {
     "data": {
      "text/plain": [
       "dict_keys(['autoencoder', 'HLLE', 'Isomap', 'KernelPCA', 'LaplacianEigenmaps', 'LLE', 'LTSA', 'MDS', 'PCA', 'TSNE', 'UMAP'])"
      ]
     },
     "execution_count": 7,
     "metadata": {},
     "output_type": "execute_result"
    }
   ],
   "source": [
    "available_algorithms().keys()"
   ]
  },
  {
   "cell_type": "code",
   "execution_count": 8,
   "metadata": {
    "ExecuteTime": {
     "end_time": "2018-08-29T21:22:44.671765Z",
     "start_time": "2018-08-29T21:22:44.640642Z"
    }
   },
   "outputs": [
    {
     "data": {
      "text/plain": [
       "dict_keys(['1nn-error', 'continuity', 'stress', 'strain', 'trustworthiness'])"
      ]
     },
     "execution_count": 8,
     "metadata": {},
     "output_type": "execute_result"
    }
   ],
   "source": [
    "qm.available_quality_measures().keys()"
   ]
  },
  {
   "cell_type": "code",
   "execution_count": 67,
   "metadata": {
    "ExecuteTime": {
     "end_time": "2018-08-29T21:54:59.645526Z",
     "start_time": "2018-08-29T21:54:59.609222Z"
    }
   },
   "outputs": [],
   "source": [
    "mph_synthetic_datasets = [\n",
    " 'swiss-roll',\n",
    " 'helix',\n",
    " 'twinpeaks',\n",
    " 'broken-swiss-roll',\n",
    " 'difficult'\n",
    "]\n",
    "\n",
    "mph_datasets = [\n",
    " 'swiss-roll',\n",
    " #'helix',\n",
    " #'twinpeaks',\n",
    " #'broken-swiss-roll',\n",
    " #'difficult',\n",
    " #'coil-20',\n",
    " #'orl-faces',\n",
    " #'hiva'\n",
    "]\n",
    "\n",
    "# Leave out LaplacianEigenmaps until we figure out what to do with it failing...\n",
    "\n",
    "mph_algs = [\n",
    "    #('PCA', {'n_components':2}, None),\n",
    "    #('Isomap', {'n_components':[2], 'n_neighbors':[ 5,  6,  7,  8,  9, 10, 11, 12, 13, 14, 15]}, ('grid_search', {'verbose':10, 'return_train_score':True})),\n",
    "    #('KernelPCA', {'n_components':2, 'kernel':'poly', 'degree':5}, None),\n",
    "    #('LLE', {'n_components':[2], 'n_neighbors':[ 5,  6,  7,  8,  9, 10, 11, 12, 13, 14, 15], 'method':['modified']}, ('grid_search', {'verbose':10, 'return_train_score':True})), #use modified lle as n_neighbors > n_components\n",
    "    ('LaplacianEigenmaps', {'n_components':[2], 'n_neighbors':[ 5,  6,  7,  8,  9, 10, 11, 12, 13, 14, 15], 'eigen_solver':['dense']}, ('grid_search', {'verbose':10, 'return_train_score':True})),\n",
    "    #('HLLE', {'n_components':[2], 'n_neighbors':[6,  7,  8,  9, 10, 11, 12, 13, 14, 15]}, ('grid_search', {'verbose':10, 'return_train_score':True})),\n",
    "    #('LTSA', {'n_components':[2], 'n_neighbors':[5, 6,  7,  8,  9, 10, 11, 12, 13, 14, 15]}, ('grid_search', {'verbose':10, 'return_train_score':True})),\n",
    "    #('MDS', {'n_components':2}, None),\n",
    "    #('TSNE', {'n_components':[2], 'perplexity':[ 10,  20,  30,  40,  50,  60,  70,  80,  90, 100]}, ('grid_search', {'verbose':10, 'return_train_score':True})),\n",
    "    #('UMAP', {'n_components':[2], 'n_neighbors':[ 5,  6,  7,  8,  9, 10, 11, 12, 13, 14, 15]}, ('grid_search', {'verbose':10, 'return_train_score':True})),\n",
    "]\n",
    "\n",
    "mph_scores = [\n",
    "#    ('1nn-error', {'metric':'euclidean', 'greater_is_better':False}),\n",
    "    ('continuity', {'n_neighbors':12, 'metric':'euclidean', 'greater_is_better':True}),\n",
    "    ('stress', {'metric':'euclidean', 'greater_is_better':False}),\n",
    "    ('strain',  {'metric':'euclidean', 'greater_is_better':False}),\n",
    "    ('trustworthiness', {'n_neighbors':12, 'metric':'euclidean', 'greater_is_better':True})\n",
    "]"
   ]
  },
  {
   "cell_type": "code",
   "execution_count": 68,
   "metadata": {
    "ExecuteTime": {
     "end_time": "2018-08-29T21:54:59.953714Z",
     "start_time": "2018-08-29T21:54:59.917221Z"
    }
   },
   "outputs": [],
   "source": [
    "training_dicts = []\n",
    "for ds in mph_datasets:\n",
    "    for alg, alg_params, meta in mph_algs:\n",
    "        for score, score_params in mph_scores:\n",
    "            d = {}\n",
    "            d['dataset'] = ds\n",
    "            d['algorithm'] = alg\n",
    "            new_alg_params = alg_params.copy()\n",
    "            rs = [int(x) for x in np.random.randint(2**16, size=2)]\n",
    "            new_alg_params['random_state'] = rs\n",
    "            if (alg in ['LLE', 'HLLE', 'LTSA']) and (ds in mph_synthetic_datasets):\n",
    "                new_alg_params['eigen_solver'] = ['dense']\n",
    "            d['algorithm_params'] = new_alg_params\n",
    "            d['score'] = score\n",
    "            d['score_params'] = score_params\n",
    "            if meta is not None:\n",
    "                d['meta'] = meta[0]\n",
    "                d['meta_params'] = meta[1]\n",
    "            training_dicts.append(d)"
   ]
  },
  {
   "cell_type": "code",
   "execution_count": 69,
   "metadata": {
    "ExecuteTime": {
     "end_time": "2018-08-29T21:55:00.288404Z",
     "start_time": "2018-08-29T21:55:00.252189Z"
    }
   },
   "outputs": [
    {
     "data": {
      "text/plain": [
       "[{'dataset': 'swiss-roll',\n",
       "  'algorithm': 'LaplacianEigenmaps',\n",
       "  'algorithm_params': {'n_components': [2],\n",
       "   'n_neighbors': [5, 6, 7, 8, 9, 10, 11, 12, 13, 14, 15],\n",
       "   'eigen_solver': ['dense'],\n",
       "   'random_state': [30724, 52485]},\n",
       "  'score': 'continuity',\n",
       "  'score_params': {'n_neighbors': 12,\n",
       "   'metric': 'euclidean',\n",
       "   'greater_is_better': True},\n",
       "  'meta': 'grid_search',\n",
       "  'meta_params': {'verbose': 10, 'return_train_score': True}},\n",
       " {'dataset': 'swiss-roll',\n",
       "  'algorithm': 'LaplacianEigenmaps',\n",
       "  'algorithm_params': {'n_components': [2],\n",
       "   'n_neighbors': [5, 6, 7, 8, 9, 10, 11, 12, 13, 14, 15],\n",
       "   'eigen_solver': ['dense'],\n",
       "   'random_state': [47192, 42038]},\n",
       "  'score': 'stress',\n",
       "  'score_params': {'metric': 'euclidean', 'greater_is_better': False},\n",
       "  'meta': 'grid_search',\n",
       "  'meta_params': {'verbose': 10, 'return_train_score': True}},\n",
       " {'dataset': 'swiss-roll',\n",
       "  'algorithm': 'LaplacianEigenmaps',\n",
       "  'algorithm_params': {'n_components': [2],\n",
       "   'n_neighbors': [5, 6, 7, 8, 9, 10, 11, 12, 13, 14, 15],\n",
       "   'eigen_solver': ['dense'],\n",
       "   'random_state': [31884, 47384]},\n",
       "  'score': 'strain',\n",
       "  'score_params': {'metric': 'euclidean', 'greater_is_better': False},\n",
       "  'meta': 'grid_search',\n",
       "  'meta_params': {'verbose': 10, 'return_train_score': True}},\n",
       " {'dataset': 'swiss-roll',\n",
       "  'algorithm': 'LaplacianEigenmaps',\n",
       "  'algorithm_params': {'n_components': [2],\n",
       "   'n_neighbors': [5, 6, 7, 8, 9, 10, 11, 12, 13, 14, 15],\n",
       "   'eigen_solver': ['dense'],\n",
       "   'random_state': [31798, 56190]},\n",
       "  'score': 'trustworthiness',\n",
       "  'score_params': {'n_neighbors': 12,\n",
       "   'metric': 'euclidean',\n",
       "   'greater_is_better': True},\n",
       "  'meta': 'grid_search',\n",
       "  'meta_params': {'verbose': 10, 'return_train_score': True}}]"
      ]
     },
     "execution_count": 69,
     "metadata": {},
     "output_type": "execute_result"
    }
   ],
   "source": [
    "training_dicts"
   ]
  },
  {
   "cell_type": "code",
   "execution_count": 70,
   "metadata": {
    "ExecuteTime": {
     "end_time": "2018-08-29T21:55:01.386902Z",
     "start_time": "2018-08-29T21:55:01.236732Z"
    }
   },
   "outputs": [
    {
     "name": "stdout",
     "output_type": "stream",
     "text": [
      "experiment_models.json\ttrained\r\n"
     ]
    }
   ],
   "source": [
    "!ls '../models/'"
   ]
  },
  {
   "cell_type": "code",
   "execution_count": 71,
   "metadata": {
    "ExecuteTime": {
     "end_time": "2018-08-29T21:55:02.291082Z",
     "start_time": "2018-08-29T21:55:02.256705Z"
    }
   },
   "outputs": [],
   "source": [
    "save_json('../models/experiment_models.json', training_dicts)"
   ]
  },
  {
   "cell_type": "code",
   "execution_count": null,
   "metadata": {},
   "outputs": [],
   "source": []
  }
 ],
 "metadata": {
  "kernelspec": {
   "display_name": "Python [conda env:dimension_reduction]",
   "language": "python",
   "name": "conda-env-dimension_reduction-py"
  },
  "language_info": {
   "codemirror_mode": {
    "name": "ipython",
    "version": 3
   },
   "file_extension": ".py",
   "mimetype": "text/x-python",
   "name": "python",
   "nbconvert_exporter": "python",
   "pygments_lexer": "ipython3",
   "version": "3.6.6"
  }
 },
 "nbformat": 4,
 "nbformat_minor": 2
}
