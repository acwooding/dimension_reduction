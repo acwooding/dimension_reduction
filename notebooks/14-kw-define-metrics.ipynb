{
 "cells": [
  {
   "cell_type": "code",
   "execution_count": 3,
   "metadata": {},
   "outputs": [],
   "source": [
    "DR_ALGORITHMS = {\n",
    "    \"autoencoder\": None,\n",
    "    \"isomap\": None,\n",
    "    \"MDS\": None,\n",
    "    \"PCA\": None,\n",
    "    \"t-SNE\":None,\n",
    "    \"UMAP\": None,\n",
    "}\n",
    "\n",
    "def algorithms():\n",
    "    \"\"\"Valid Algorithms for dimension reduction applications\n",
    "    \n",
    "    This function simply returns the list of known dimension reduction\n",
    "    algorithms.\n",
    "    \n",
    "    It exists to allow for a description of the mapping for\n",
    "    each of the valid strings.\n",
    "\n",
    "    The valid quality metrics, and the function they map to, are:\n",
    "\n",
    "    ============     ====================================\n",
    "    Algorithm        Function\n",
    "    ============     ====================================\n",
    "    autoencoder\n",
    "    isomap\n",
    "    MDS\n",
    "    PCA\n",
    "    t-SNE\n",
    "    UMAP\n",
    "    ============     ====================================\n",
    "    \n",
    "    \n",
    "    \"\"\"\n",
    "    return DR_ALGORITHMS"
   ]
  },
  {
   "cell_type": "code",
   "execution_count": 4,
   "metadata": {},
   "outputs": [],
   "source": [
    "\n",
    "DR_METRICS = {\n",
    "    \"1nn-error\":None,\n",
    "    \"adj-kendall-tau\":None,\n",
    "    \"continuity\":None,\n",
    "    \"jaccard\":None,\n",
    "    \"quality\":None,\n",
    "    \"stress\":None,\n",
    "    \"strain\":None,\n",
    "    \"trustworthiness\":None,\n",
    "}\n",
    "\n",
    "def quality_metrics():\n",
    "    \"\"\"Valid Quality Metrics for evaluating Dimension Reduction\n",
    "    \n",
    "    This function simply returns the valid quality metrics.\n",
    "    It exists to allow for a description of the mapping for\n",
    "    each of the valid strings.\n",
    "\n",
    "    The valid quality metrics, and the function they map to, are:\n",
    "\n",
    "    ============     ====================================\n",
    "    metric           Function\n",
    "    ============     ====================================\n",
    "    '1nn-error'\n",
    "    'adj-kendall-tau'\n",
    "    'continuity'\n",
    "    'jaccard'\n",
    "    'quality'\n",
    "    'stress'\n",
    "    'strain'\n",
    "    'trustworthiness'\n",
    "    ============     ====================================\n",
    "    \n",
    "    \"\"\"\n",
    "    return DR_METRICS\n"
   ]
  },
  {
   "cell_type": "code",
   "execution_count": null,
   "metadata": {},
   "outputs": [],
   "source": []
  }
 ],
 "metadata": {
  "kernelspec": {
   "display_name": "Python [conda env:dimension_reduction]",
   "language": "python",
   "name": "conda-env-dimension_reduction-py"
  },
  "language_info": {
   "codemirror_mode": {
    "name": "ipython",
    "version": 3
   },
   "file_extension": ".py",
   "mimetype": "text/x-python",
   "name": "python",
   "nbconvert_exporter": "python",
   "pygments_lexer": "ipython3",
   "version": "3.6.6"
  }
 },
 "nbformat": 4,
 "nbformat_minor": 2
}
